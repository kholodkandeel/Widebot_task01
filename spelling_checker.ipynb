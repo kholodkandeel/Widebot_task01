{
  "nbformat": 4,
  "nbformat_minor": 0,
  "metadata": {
    "colab": {
      "provenance": [],
      "authorship_tag": "ABX9TyM2/FnHc/m9UxXEAgV4W7OW"
    },
    "kernelspec": {
      "name": "python3",
      "display_name": "Python 3"
    },
    "language_info": {
      "name": "python"
    }
  },
  "cells": [
    {
      "cell_type": "code",
      "source": [
        "class TrieNode:\n",
        "    def __init__(self):\n",
        "        self.trie = {} # Dictionary to store child nodes for each character\n",
        "        self.isEnd = False # Flag to indicate the end of a word\n",
        "        self.word = None # Store the full word associated with this node\n",
        "\n",
        "    # Insert a word into the Trie.\n",
        "def insert_trie(root, s):\n",
        "    temp = root\n",
        "    for char in s:\n",
        "        if char not in temp.trie:\n",
        "            temp.trie[char] = TrieNode()\n",
        "        temp = temp.trie[char]\n",
        "\n",
        "    temp.isEnd = True\n",
        "    temp.word = s\n",
        "\n",
        "    # Check if a word is present in the Trie.\n",
        "\n",
        "def check_present(root, key):\n",
        "    for char in key:\n",
        "        if char not in root.trie:\n",
        "            return False, find_nearest_words(root, key[:len(key) - len(root.trie)])\n",
        "        root = root.trie[char]\n",
        "\n",
        "    return root.isEnd, []\n",
        "\n",
        "    # Find the nearest words to a given prefix in the Trie.\n",
        "\n",
        "def find_nearest_words(root, prefix):\n",
        "    def dfs(node, suggestions):\n",
        "        if node.isEnd:\n",
        "            suggestions.append(node.word)\n",
        "        for char in node.trie:\n",
        "            dfs(node.trie[char], suggestions)\n",
        "\n",
        "    suggestions = []\n",
        "    dfs(root, suggestions)\n",
        "\n",
        "    key_index = suggestions.index(prefix) if prefix in suggestions else -1\n",
        "    if key_index != -1:\n",
        "        return suggestions[max(0, key_index - 2):min(len(suggestions), key_index + 3)]\n",
        "    return []\n",
        "\n",
        "    # Insert words from a file into the Trie.\n",
        "def insert_words_from_file(file_path, root):\n",
        "    with open(file_path, \"r\", errors='replace') as file:\n",
        "        for line in file:\n",
        "\n",
        "    # Remove leading/trailing whitespaces and insert the word into the Trie\n",
        "            word = line.strip()\n",
        "            insert_trie(root, word)\n",
        "\n",
        "    # Add a word to the dictionary if it's not already present.\n",
        "\n",
        "def add_word_to_dictionary(root, word):\n",
        "    node = root\n",
        "    for char in word:\n",
        "        if char not in node.trie:\n",
        "            node.trie[char] = TrieNode()\n",
        "        node = node.trie[char]\n",
        "\n",
        "    node.isEnd = True\n",
        "    node.word = word\n",
        "\n",
        "    # Process a word: check if it's present, add if not, and suggest similar words.\n",
        "def process_word(root, word):\n",
        "    is_present, nearest_words = check_present(root, word)\n",
        "    if is_present:\n",
        "        print(\"Word is present in the dictionary.\")\n",
        "    else:\n",
        "        print(\"Word is not present in the dictionary.\")\n",
        "        add_word_to_dictionary(root, word)\n",
        "        print(f\"Word '{word}' added to the dictionary.\")\n",
        "\n",
        "    suggested_words = find_nearest_words(root, word)\n",
        "    print(f\"Words before and after '{word}':\", suggested_words)\n",
        "\n",
        "\n",
        "if __name__ == \"__main__\":\n",
        "    root = TrieNode()\n",
        "\n",
        "    # Read the file and add the words to the Trie\n",
        "    file_path = \"/content/dictionary.txt\"  # Replace with the actual file path\n",
        "    insert_words_from_file(file_path, root)\n",
        "\n",
        "    # Test the code\n",
        "    word_to_process = \"catton\"\n",
        "    process_word(root, word_to_process)"
      ],
      "metadata": {
        "id": "Mb7cSnrFA_Q4",
        "colab": {
          "base_uri": "https://localhost:8080/"
        },
        "outputId": "43a28b9e-e64c-4b51-8b03-323e70ee9130"
      },
      "execution_count": null,
      "outputs": [
        {
          "output_type": "stream",
          "name": "stdout",
          "text": [
            "Word is not present in the dictionary.\n",
            "Word 'catton' added to the dictionary.\n",
            "Words before and after 'catton': ['cattlemen', 'catty', 'catton', 'catwalk', 'catwalks']\n"
          ]
        }
      ]
    }
  ]
}